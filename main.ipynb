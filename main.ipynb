{
 "cells": [
  {
   "cell_type": "code",
   "execution_count": 155,
   "metadata": {},
   "outputs": [],
   "source": [
    "from Literal import Literal\n",
    "from Rule import Rule\n",
    "from Argument import Argument\n",
    "\n",
    "import matplotlib.pyplot as plt\n",
    "import networkx as nx"
   ]
  },
  {
   "cell_type": "markdown",
   "metadata": {},
   "source": [
    "Déclaration et affichage des règles de base :"
   ]
  },
  {
   "cell_type": "code",
   "execution_count": 156,
   "metadata": {},
   "outputs": [
    {
     "name": "stdout",
     "output_type": "stream",
     "text": [
      "r1 : -> a\n",
      "r2 : b,d -> c\n",
      "r3 : ¬c -> d\n",
      "r4 : a => ¬d 0\n",
      "r5 : => b 1\n",
      "r6 : => ¬c 1\n",
      "r7 : => d 0\n",
      "r8 : c => e 0\n",
      "r9 : ¬c => ¬r4 0\n"
     ]
    }
   ],
   "source": [
    "rules = []\n",
    "rules.append(Rule([], Literal(\"a\", False), False, -1, Literal(\"r1\", False)))\n",
    "rules.append(Rule([Literal(\"b\", False), Literal(\"d\", False)], Literal(\"c\", False), False, -1, Literal(\"r2\", False)))\n",
    "rules.append(Rule([Literal(\"c\", True)], Literal(\"d\", False), False, -1, Literal(\"r3\", False)))\n",
    "rules.append(Rule([Literal(\"a\", False)], Literal(\"d\", True), True, 0, Literal(\"r4\", False)))\n",
    "rules.append(Rule([], Literal(\"b\", False), True, 1, Literal(\"r5\", False)))\n",
    "rules.append(Rule([], Literal(\"c\", True), True, 1, Literal(\"r6\", False)))\n",
    "rules.append(Rule([], Literal(\"d\", False), True, 0, Literal(\"r7\", False)))\n",
    "rules.append(Rule([Literal(\"c\", False)], Literal(\"e\", False), True, 0, Literal(\"r8\", False)))\n",
    "rules.append(Rule([Literal(\"c\", True)], Literal(\"r4\", True), True, 0, Literal(\"r9\", False)))\n",
    "\n",
    "for rule in rules:\n",
    "    rule.print()"
   ]
  },
  {
   "cell_type": "markdown",
   "metadata": {},
   "source": [
    "Création d'une fonction qui fait la contraposée des règles strictes :"
   ]
  },
  {
   "cell_type": "code",
   "execution_count": 157,
   "metadata": {},
   "outputs": [],
   "source": [
    "def contraposition(rule):\n",
    "    new_rules = []\n",
    "    # If the rule is not defeasible and has premises\n",
    "    if not rule.get_is_defeasible() and len(rule.get_premises()) > 0:\n",
    "        # Visit each premise\n",
    "        for i, _ in enumerate(rule.get_premises()):\n",
    "            new_premises = list(rule.get_premises())\n",
    "            new_premises.pop(i)\n",
    "            new_premises.append(Literal(rule.get_conclusion().get_value(), not rule.get_conclusion().get_is_negative()))\n",
    "            f = rule.get_reference().get_value() + \"c\" + str(i + 1)\n",
    "            new_rule = Rule(new_premises, Literal(rule.get_premises()[i].get_value(), not rule.get_premises()[i].get_is_negative()), False, rule.get_weight(), Literal(f, False))\n",
    "            new_rules.append(new_rule)\n",
    "    return new_rules"
   ]
  },
  {
   "cell_type": "markdown",
   "metadata": {},
   "source": [
    "Affichage des règles et de leur(s) contraposée(s) :"
   ]
  },
  {
   "cell_type": "code",
   "execution_count": 158,
   "metadata": {},
   "outputs": [
    {
     "name": "stdout",
     "output_type": "stream",
     "text": [
      "r1 : -> a\n",
      "r2 : b,d -> c\n",
      "r3 : ¬c -> d\n",
      "r4 : a => ¬d 0\n",
      "r5 : => b 1\n",
      "r6 : => ¬c 1\n",
      "r7 : => d 0\n",
      "r8 : c => e 0\n",
      "r9 : ¬c => ¬r4 0\n",
      "r2c1 : d,¬c -> ¬b\n",
      "r2c2 : b,¬c -> ¬d\n",
      "r3c1 : ¬d -> c\n",
      "\n"
     ]
    }
   ],
   "source": [
    "total_rules = list(rules)\n",
    "for rule in rules:\n",
    "    new_rules = contraposition(rule)\n",
    "    for new_rule in new_rules:\n",
    "        total_rules.append(new_rule)\n",
    "\n",
    "for rule in total_rules:\n",
    "    rule.print()\n",
    "print()"
   ]
  },
  {
   "cell_type": "markdown",
   "metadata": {},
   "source": [
    "Fonction qui permer de créer les arguments à partir des règles :"
   ]
  },
  {
   "cell_type": "code",
   "execution_count": 159,
   "metadata": {},
   "outputs": [],
   "source": [
    "def create_arguments(total_rules):\n",
    "    arguments = []\n",
    "    rules = list(total_rules) # list of Rule to be processed\n",
    "    remaining_rules = list(rules) # list of Rule to be processed\n",
    "    new_argument_created = True\n",
    "    \n",
    "    while (len(remaining_rules) > 0 and new_argument_created):\n",
    "        new_argument_created = False      \n",
    "        for i, rule in enumerate(remaining_rules):\n",
    "            # If the rule has no premises, create a new argument\n",
    "            if len(rule.get_premises()) == 0:\n",
    "                name = \"A\" + str(len(arguments) + 1)\n",
    "                argument = Argument(rule, [], name)\n",
    "                arguments.append(argument)\n",
    "                rules.remove(rule)\n",
    "                new_argument_created = True\n",
    "                \n",
    "        for i, rule in enumerate(remaining_rules):\n",
    "            # If the rule has premises\n",
    "                sub_arguments = []\n",
    "                # Find the sub-arguments which can be used to create a new argument\n",
    "                for premise in rule.get_premises():\n",
    "                    for argument in arguments:\n",
    "                        if argument.get_top_rule().get_conclusion() == premise:\n",
    "                            sub_arguments.append(argument)\n",
    "                \n",
    "                nb_premises = len(rule.get_premises())\n",
    "                # If the rule has one premise\n",
    "                if(nb_premises == 1):\n",
    "                    found = False\n",
    "                    # Create a new argument if the sub-argument is not found in a argument for the current rule\n",
    "                    for sub_argument in sub_arguments:\n",
    "                        for argument in arguments:\n",
    "                            if argument.get_top_rule() == rule:\n",
    "                                for sub in argument.get_sub_arguments():\n",
    "                                    if sub_argument == sub:\n",
    "                                        found = True\n",
    "                                        break\n",
    "\n",
    "                        if not found:\n",
    "                            name = \"A\" + str(len(arguments) + 1)\n",
    "                            argument = Argument(rule,[sub_argument], name)\n",
    "                            arguments.append(argument)\n",
    "                            new_argument_created = True\n",
    "                        found = False\n",
    "                            \n",
    "                # If the rule has two premises\n",
    "                elif(nb_premises == 2):\n",
    "                    found = False\n",
    "                    # Create a new argument if the 2 sub-arguments are not found in a same argument for the current rule\n",
    "                    for i in range(0, len(sub_arguments)):\n",
    "                        for j in range(0, len(sub_arguments)):\n",
    "                            if(sub_arguments[i].get_top_rule().get_conclusion() != sub_arguments[j].get_top_rule().get_conclusion()):\n",
    "                                for argument in arguments:\n",
    "                                    if argument.get_top_rule() == rule:\n",
    "                                        for sub in argument.get_sub_arguments():\n",
    "                                            for sub2 in argument.get_sub_arguments():\n",
    "                                                if sub != sub2:\n",
    "                                                    if (sub_arguments[i] == sub and sub_arguments[j] == sub2) or (sub_arguments[i] == sub2 and sub_arguments[j] == sub):\n",
    "                                                        found = True\n",
    "                                                        break\n",
    "                                                        \n",
    "                                if not found :\n",
    "                                    name = \"A\" + str(len(arguments) + 1)\n",
    "                                    argument = Argument(rule, [sub_arguments[i], sub_arguments[j]], name)\n",
    "                                    arguments.append(argument)\n",
    "                                    new_argument_created = True\n",
    "                                found = False\n",
    "                        \n",
    "        remaining_rules = list(rules)\n",
    "        \n",
    "    return arguments"
   ]
  },
  {
   "cell_type": "markdown",
   "metadata": {},
   "source": [
    "Affichage des arguments générés :"
   ]
  },
  {
   "cell_type": "code",
   "execution_count": 160,
   "metadata": {},
   "outputs": [
    {
     "name": "stdout",
     "output_type": "stream",
     "text": [
      "A1 :  -> a\n",
      "A2 :  => b\n",
      "A3 :  => ¬c\n",
      "A4 :  => d\n",
      "A5 : A2,A4 -> c\n",
      "A6 : A3 -> d\n",
      "A7 : A1 => ¬d\n",
      "A8 : A5 => e\n",
      "A9 : A3 => ¬r4\n",
      "A10 : A4,A3 -> ¬b\n",
      "A11 : A6,A3 -> ¬b\n",
      "A12 : A2,A3 -> ¬d\n",
      "A13 : A7 -> c\n",
      "A14 : A12 -> c\n",
      "A15 : A2,A6 -> c\n",
      "A16 : A13 => e\n",
      "A17 : A14 => e\n",
      "A18 : A15 => e\n"
     ]
    }
   ],
   "source": [
    "arguments = create_arguments(total_rules)\n",
    "for argument in arguments:\n",
    "    argument.print()"
   ]
  },
  {
   "cell_type": "markdown",
   "metadata": {},
   "source": [
    "Affichage des arguments avec la liste de leurs règles défaisables, la liste de leurs dernières règles défaisables et la liste de leurs sous-arguments :"
   ]
  },
  {
   "cell_type": "code",
   "execution_count": 161,
   "metadata": {},
   "outputs": [
    {
     "name": "stdout",
     "output_type": "stream",
     "text": [
      "A1 :  -> a\n",
      "Defeasible rules of A1: \n",
      "Last defeasible rules of A1: \n",
      "Sub-arguments of A1: \n",
      "\n",
      "A2 :  => b\n",
      "Defeasible rules of A2: r5\n",
      "Last defeasible rules of A2: r5\n",
      "Sub-arguments of A2: \n",
      "\n",
      "A3 :  => ¬c\n",
      "Defeasible rules of A3: r6\n",
      "Last defeasible rules of A3: r6\n",
      "Sub-arguments of A3: \n",
      "\n",
      "A4 :  => d\n",
      "Defeasible rules of A4: r7\n",
      "Last defeasible rules of A4: r7\n",
      "Sub-arguments of A4: \n",
      "\n",
      "A5 : A2,A4 -> c\n",
      "Defeasible rules of A5: r5,r7\n",
      "Last defeasible rules of A5: r5,r7\n",
      "Sub-arguments of A5: A2,A4\n",
      "\n",
      "A6 : A3 -> d\n",
      "Defeasible rules of A6: r6\n",
      "Last defeasible rules of A6: r6\n",
      "Sub-arguments of A6: A3\n",
      "\n",
      "A7 : A1 => ¬d\n",
      "Defeasible rules of A7: r4\n",
      "Last defeasible rules of A7: r4\n",
      "Sub-arguments of A7: A1\n",
      "\n",
      "A8 : A5 => e\n",
      "Defeasible rules of A8: r8,r5,r7\n",
      "Last defeasible rules of A8: r8\n",
      "Sub-arguments of A8: A5\n",
      "\n",
      "A9 : A3 => ¬r4\n",
      "Defeasible rules of A9: r9,r6\n",
      "Last defeasible rules of A9: r9\n",
      "Sub-arguments of A9: A3\n",
      "\n",
      "A10 : A4,A3 -> ¬b\n",
      "Defeasible rules of A10: r7,r6\n",
      "Last defeasible rules of A10: r7,r6\n",
      "Sub-arguments of A10: A4,A3\n",
      "\n",
      "A11 : A6,A3 -> ¬b\n",
      "Defeasible rules of A11: r6\n",
      "Last defeasible rules of A11: r6\n",
      "Sub-arguments of A11: A6,A3\n",
      "\n",
      "A12 : A2,A3 -> ¬d\n",
      "Defeasible rules of A12: r5,r6\n",
      "Last defeasible rules of A12: r5,r6\n",
      "Sub-arguments of A12: A2,A3\n",
      "\n",
      "A13 : A7 -> c\n",
      "Defeasible rules of A13: r4\n",
      "Last defeasible rules of A13: r4\n",
      "Sub-arguments of A13: A7\n",
      "\n",
      "A14 : A12 -> c\n",
      "Defeasible rules of A14: r5,r6\n",
      "Last defeasible rules of A14: r5,r6\n",
      "Sub-arguments of A14: A12\n",
      "\n",
      "A15 : A2,A6 -> c\n",
      "Defeasible rules of A15: r5,r6\n",
      "Last defeasible rules of A15: r5,r6\n",
      "Sub-arguments of A15: A2,A6\n",
      "\n",
      "A16 : A13 => e\n",
      "Defeasible rules of A16: r8,r4\n",
      "Last defeasible rules of A16: r8\n",
      "Sub-arguments of A16: A13\n",
      "\n",
      "A17 : A14 => e\n",
      "Defeasible rules of A17: r8,r5,r6\n",
      "Last defeasible rules of A17: r8\n",
      "Sub-arguments of A17: A14\n",
      "\n",
      "A18 : A15 => e\n",
      "Defeasible rules of A18: r8,r5,r6\n",
      "Last defeasible rules of A18: r8\n",
      "Sub-arguments of A18: A15\n",
      "\n"
     ]
    }
   ],
   "source": [
    "for argument in arguments:\n",
    "    argument.print()\n",
    "    \n",
    "    defeasible_rules = argument.get_defeasible_rules()\n",
    "    print(\"Defeasible rules of \" + argument.get_name() + \":\", end=\" \")\n",
    "    for i, rule in enumerate(defeasible_rules):\n",
    "        print(rule.get_reference().get_value(), end=\"\")\n",
    "        if i < len(defeasible_rules) - 1:\n",
    "            print(\",\", end=\"\")  \n",
    "    print()   \n",
    "    \n",
    "    last_defeasible_rules = argument.get_last_defeasible_rules()\n",
    "    print(\"Last defeasible rules of \" + argument.get_name() + \":\" , end=\" \")\n",
    "    for i, rule in enumerate(last_defeasible_rules):\n",
    "        print(rule.get_reference().get_value(), end=\"\")\n",
    "        if i < len(last_defeasible_rules) - 1:\n",
    "            print(\",\", end=\"\")\n",
    "    print()\n",
    "        \n",
    "    sub_arguments = argument.get_sub_arguments()\n",
    "    print(\"Sub-arguments of \" + argument.get_name() + \":\" , end=\" \")\n",
    "    for sub_argument in sub_arguments:\n",
    "        print(sub_argument.get_name(), end=\"\")\n",
    "        if sub_argument != sub_arguments[-1]:\n",
    "            print(\",\", end=\"\")\n",
    "\n",
    "    print(\"\\n\")"
   ]
  },
  {
   "cell_type": "markdown",
   "metadata": {},
   "source": [
    "Fonction qui permet de générer les undercuts par rapport aux arguments :"
   ]
  },
  {
   "cell_type": "code",
   "execution_count": 162,
   "metadata": {},
   "outputs": [],
   "source": [
    "def generate_undercuts(arguments):\n",
    "    attackers = []\n",
    "    undercuts = []\n",
    "    \n",
    "    for argument in arguments:\n",
    "        conclusion = argument.get_top_rule().get_conclusion()\n",
    "        # Check if the conclusion is the negation of a rule\n",
    "        if \"r\" in conclusion.get_value() and conclusion.get_is_negative():\n",
    "            attackers.append(argument)\n",
    "\n",
    "    for attacker in attackers:\n",
    "        for argument in arguments:\n",
    "            # Check if the attacker's conclusion is the argument's top rule's \n",
    "            if argument.get_top_rule().get_reference().get_value() == attacker.get_top_rule().get_conclusion().get_value():\n",
    "                undercuts.append([attacker.get_name(), argument.get_name()])\n",
    "            else :\n",
    "                # Find if a sub-argument be part of the attacked arguments\n",
    "                for sub_argument in argument.get_sub_arguments():\n",
    "                    for i, _ in enumerate(undercuts):\n",
    "                        # Chek if the sub-argument is already in the undercuts list\n",
    "                        if undercuts[i][0] == attacker.get_name() and undercuts[i][1] == sub_argument.get_name():\n",
    "                            undercuts.append([attacker.get_name(), argument.get_name()])\n",
    "                            break\n",
    "          \n",
    "    # Print the undercuts\n",
    "    for i, _ in enumerate(undercuts):\n",
    "        print(\"(\" + undercuts[i][0] + \",\" + undercuts[i][1] + \")\" , end=\" \")\n",
    "        \n",
    "    print(\"\\n\")\n",
    "        \n",
    "    return undercuts"
   ]
  },
  {
   "cell_type": "markdown",
   "metadata": {},
   "source": [
    "Affichage des undercuts générés :"
   ]
  },
  {
   "cell_type": "code",
   "execution_count": 163,
   "metadata": {},
   "outputs": [
    {
     "name": "stdout",
     "output_type": "stream",
     "text": [
      "(A9,A7) (A9,A13) (A9,A16) \n",
      "\n"
     ]
    }
   ],
   "source": [
    "undercuts = generate_undercuts(arguments)"
   ]
  },
  {
   "cell_type": "markdown",
   "metadata": {},
   "source": [
    "Fonction qui permet de générer les rebuts par rapport aux arguments :"
   ]
  },
  {
   "cell_type": "code",
   "execution_count": 164,
   "metadata": {},
   "outputs": [],
   "source": [
    "def generate_rebuts(arguments):\n",
    "    rebuts = []\n",
    "    \n",
    "    for argument in arguments:\n",
    "        for argument2 in arguments:\n",
    "            #Check if the argument's conclusion is the negation of the argument2's conclusion\n",
    "            if (argument.get_top_rule().get_conclusion().get_value() == argument2.get_top_rule().get_conclusion().get_value() and \n",
    "            argument.get_top_rule().get_conclusion().get_is_negative() != argument2.get_top_rule().get_conclusion().get_is_negative()):\n",
    "                rebuts.append([argument.get_name(), argument2.get_name()])\n",
    "            else :\n",
    "                # Find if a sub-argument of argument2 be part of the attacked arguments\n",
    "                for sub_argument in argument2.get_sub_arguments():\n",
    "                    for i, _ in enumerate(rebuts):\n",
    "                        # Check if the sub-argument is already attacked by the argument \n",
    "                        if rebuts[i][0] == argument.get_name() and rebuts[i][1] == sub_argument.get_name():\n",
    "                            # Check duplicates\n",
    "                            if [argument.get_name(), argument2.get_name()] not in rebuts:\n",
    "                                rebuts.append([argument.get_name(), argument2.get_name()])\n",
    "                                break\n",
    "                        \n",
    "    # Print the rebuts\n",
    "    attacker = 1\n",
    "    print(\"Number of rebuts: \" + str(len(rebuts)))\n",
    "    for i, _ in enumerate(rebuts):\n",
    "        number = rebuts[i][0][1:]\n",
    "        if int(number) > attacker:\n",
    "            attacker = int(number)\n",
    "            print()\n",
    "        print(\"(\" + rebuts[i][0] + \",\" + rebuts[i][1] + \")\" , end=\" \")\n",
    "    print(\"\\n\")\n",
    "        \n",
    "    return rebuts"
   ]
  },
  {
   "cell_type": "markdown",
   "metadata": {},
   "source": [
    "Affichage des rebuts générés :"
   ]
  },
  {
   "cell_type": "code",
   "execution_count": 165,
   "metadata": {},
   "outputs": [
    {
     "name": "stdout",
     "output_type": "stream",
     "text": [
      "Number of rebuts: 94\n",
      "\n",
      "(A2,A10) (A2,A11) \n",
      "(A3,A5) (A3,A8) (A3,A13) (A3,A14) (A3,A15) (A3,A16) (A3,A17) (A3,A18) \n",
      "(A4,A7) (A4,A12) (A4,A13) (A4,A14) (A4,A16) (A4,A17) \n",
      "(A5,A3) (A5,A6) (A5,A9) (A5,A10) (A5,A11) (A5,A12) (A5,A14) (A5,A15) (A5,A17) (A5,A18) \n",
      "(A6,A7) (A6,A12) (A6,A13) (A6,A14) (A6,A16) (A6,A17) \n",
      "(A7,A4) (A7,A5) (A7,A6) (A7,A8) (A7,A10) (A7,A11) (A7,A15) (A7,A18) \n",
      "(A10,A2) (A10,A5) (A10,A8) (A10,A12) (A10,A14) (A10,A15) (A10,A17) (A10,A18) \n",
      "(A11,A2) (A11,A5) (A11,A8) (A11,A12) (A11,A14) (A11,A15) (A11,A17) (A11,A18) \n",
      "(A12,A4) (A12,A5) (A12,A6) (A12,A8) (A12,A10) (A12,A11) (A12,A15) (A12,A18) \n",
      "(A13,A3) (A13,A6) (A13,A9) (A13,A10) (A13,A11) (A13,A12) (A13,A14) (A13,A15) (A13,A17) (A13,A18) \n",
      "(A14,A3) (A14,A6) (A14,A9) (A14,A10) (A14,A11) (A14,A12) (A14,A14) (A14,A15) (A14,A17) (A14,A18) \n",
      "(A15,A3) (A15,A6) (A15,A9) (A15,A10) (A15,A11) (A15,A12) (A15,A14) (A15,A15) (A15,A17) (A15,A18) \n",
      "\n"
     ]
    }
   ],
   "source": [
    "rebuts = generate_rebuts(arguments)"
   ]
  },
  {
   "cell_type": "markdown",
   "metadata": {},
   "source": [
    "Représentation des préférences entre les règles :"
   ]
  },
  {
   "cell_type": "code",
   "execution_count": 166,
   "metadata": {},
   "outputs": [
    {
     "name": "stdout",
     "output_type": "stream",
     "text": [
      "r1: 1\n",
      "r2: 1\n",
      "r3: 1\n",
      "r4: 3\n",
      "r5: 2\n",
      "r6: 2\n",
      "r7: 3\n",
      "r8: 3\n",
      "r9: 3\n",
      "r2c1: 1\n",
      "r2c2: 1\n",
      "r3c1: 1\n"
     ]
    }
   ],
   "source": [
    "preferred_rules = {}\n",
    "for rule in total_rules:\n",
    "    if rule.get_weight() == -1:\n",
    "        preferred_rules[rule.get_reference().get_value()] = 1\n",
    "    elif rule.get_weight() == 0:\n",
    "        preferred_rules[rule.get_reference().get_value()] = 3\n",
    "    elif rule.get_weight() == 1:\n",
    "        preferred_rules[rule.get_reference().get_value()] = 2 \n",
    "    \n",
    "for rule in preferred_rules:\n",
    "    print(rule + \":\", preferred_rules[rule])"
   ]
  },
  {
   "cell_type": "markdown",
   "metadata": {},
   "source": [
    "Création d'une fonction qui permet de comparer les arguments entre eux :"
   ]
  },
  {
   "cell_type": "code",
   "execution_count": 167,
   "metadata": {},
   "outputs": [],
   "source": [
    "def compareArguments(arguments,preferred_rules,principle,link_principle):\n",
    "    preferred_arguments = {}\n",
    "    priorityArgument = 0\n",
    "           \n",
    "    for argument in arguments:\n",
    "        # Place the arguments without defeasible rule in the preferred arguments \n",
    "        if argument.get_defeasible_rules() == []:\n",
    "            preferred_arguments[argument.get_name()] = 1\n",
    "        \n",
    "        # Place the arguments with defeasible rules in the preferred arguments\n",
    "        else:\n",
    "            match link_principle:\n",
    "                # In the case of the Weakest Link principle, we get the defeasible rules of the argument\n",
    "                case \"Weakest Link\":\n",
    "                    defeasible_rules = argument.get_defeasible_rules()\n",
    "                    match principle:\n",
    "                        # In the case of the Elitist principle, the argument take the priority of the best rule\n",
    "                        case \"Elitist\":\n",
    "                            priorityArgument = 99999    \n",
    "                            for rule in defeasible_rules:\n",
    "                                priorityRule = preferred_rules[rule.get_reference().get_value()]\n",
    "                                if priorityRule < priorityArgument:\n",
    "                                    priorityArgument = priorityRule\n",
    "                        # In the case of the Democratic principle, the argument take the priority of the worst rule\n",
    "                        case \"Democratic\":\n",
    "                            priorityArgument = 0\n",
    "                            for rule in defeasible_rules:\n",
    "                                priorityRule = preferred_rules[rule.get_reference().get_value()]\n",
    "                                if priorityRule > priorityArgument:\n",
    "                                    priorityArgument = priorityRule\n",
    "                    \n",
    "                # In the case of the Last Link principle, we get the last defeasible rules of the argument\n",
    "                case \"Last Link\":\n",
    "                    last_defeasible_rules = argument.get_last_defeasible_rules()\n",
    "                    match preferred_arguments:\n",
    "                        # In the case of the Elitist principle, the argument take the priority of the best rule\n",
    "                        case \"Elitist\":\n",
    "                            priorityArgument = 99999\n",
    "                            for rule in last_defeasible_rules:\n",
    "                                priorityRule = preferred_rules[rule.get_reference().get_value()]\n",
    "                                if priorityRule < priorityArgument:\n",
    "                                    priorityArgument = priorityRule\n",
    "                        # In the case of the Democratic principle, the argument take the priority of the worst rule\n",
    "                        case \"Democratic\":\n",
    "                            priorityArgument = 0\n",
    "                            for rule in last_defeasible_rules:\n",
    "                                priorityRule = preferred_rules[rule.get_reference().get_value()]\n",
    "                                if priorityRule > priorityArgument:\n",
    "                                    priorityArgument = priorityRule\n",
    "                                    \n",
    "            preferred_arguments[argument.get_name()] = priorityArgument\n",
    "        \n",
    "    # Print in order of priority\n",
    "    max_priority = 0\n",
    "    for argument in preferred_arguments:\n",
    "        if preferred_arguments[argument] > max_priority:\n",
    "            max_priority = preferred_arguments[argument]\n",
    "            \n",
    "    for i in range(1,max_priority + 1):\n",
    "        for argument in preferred_arguments:\n",
    "            if preferred_arguments[argument] == i:\n",
    "                print(argument, end=\" \")\n",
    "        if i < max_priority:\n",
    "            print(\"<\", end=\" \")\n",
    "    print(\"\\n\")\n",
    "        \n",
    "    return preferred_arguments"
   ]
  },
  {
   "cell_type": "markdown",
   "metadata": {},
   "source": [
    "Representation des préférences entre les arguments :"
   ]
  },
  {
   "cell_type": "code",
   "execution_count": 168,
   "metadata": {},
   "outputs": [
    {
     "name": "stdout",
     "output_type": "stream",
     "text": [
      "A1 < A2 A3 A6 A11 A12 A14 A15 < A4 A5 A7 A8 A9 A10 A13 A16 A17 A18 \n",
      "\n"
     ]
    }
   ],
   "source": [
    "preferred_arguments = compareArguments(arguments,preferred_rules,\"Democratic\",\"Weakest Link\")"
   ]
  },
  {
   "cell_type": "markdown",
   "metadata": {},
   "source": [
    "Fonction permettant de générer les défaites :"
   ]
  },
  {
   "cell_type": "code",
   "execution_count": 169,
   "metadata": {},
   "outputs": [],
   "source": [
    "def generate_defeats(arguments, rebuts, preferred_arguments):\n",
    "    defeats = []\n",
    "    for rebut in rebuts:\n",
    "        # Check if the attacker is in the preferred arguments\n",
    "        if preferred_arguments[rebut[0]] <= preferred_arguments[rebut[1]]:\n",
    "            defeats.append(rebut)\n",
    "        else:\n",
    "            # Check if the attacker argument has aleady a defeat in a sub-argument of the attacked argument\n",
    "            for argument in arguments:\n",
    "                if argument.get_name() == rebut[1]:\n",
    "                    for sub_argument in argument.get_sub_arguments():\n",
    "                        for defeat in defeats:\n",
    "                            if defeat[0] == rebut[0] and defeat[1] == sub_argument.get_name():\n",
    "                                defeats.append(rebut)\n",
    "                                break\n",
    "                    \n",
    "    # Print the defeats\n",
    "    attacker = 1\n",
    "    print(\"Number of defeats: \" + str(len(defeats)))\n",
    "    for i, _ in enumerate(defeats):\n",
    "        number = defeats[i][0][1:]\n",
    "        if int(number) > attacker:\n",
    "            attacker = int(number)\n",
    "            print()\n",
    "        print(\"(\" + defeats[i][0] + \",\" + defeats[i][1] + \")\" , end=\" \")\n",
    "    print(\"\\n\")\n",
    "    \n",
    "    return defeats"
   ]
  },
  {
   "cell_type": "markdown",
   "metadata": {},
   "source": [
    "Représentation des préférences entre les arguments :"
   ]
  },
  {
   "cell_type": "code",
   "execution_count": 170,
   "metadata": {},
   "outputs": [
    {
     "name": "stdout",
     "output_type": "stream",
     "text": [
      "Number of defeats: 73\n",
      "\n",
      "(A2,A10) (A2,A11) \n",
      "(A3,A5) (A3,A8) (A3,A13) (A3,A14) (A3,A15) (A3,A16) (A3,A17) (A3,A18) \n",
      "(A4,A7) (A4,A13) (A4,A16) (A4,A17) \n",
      "(A5,A9) (A5,A10) (A5,A17) (A5,A18) \n",
      "(A6,A7) (A6,A12) (A6,A13) (A6,A14) (A6,A16) (A6,A17) \n",
      "(A7,A4) (A7,A5) (A7,A8) (A7,A10) (A7,A18) \n",
      "(A10,A5) (A10,A8) (A10,A17) (A10,A18) \n",
      "(A11,A2) (A11,A5) (A11,A8) (A11,A12) (A11,A14) (A11,A15) (A11,A17) (A11,A18) \n",
      "(A12,A4) (A12,A5) (A12,A6) (A12,A8) (A12,A10) (A12,A11) (A12,A15) (A12,A18) \n",
      "(A13,A9) (A13,A10) (A13,A17) (A13,A18) \n",
      "(A14,A3) (A14,A6) (A14,A9) (A14,A10) (A14,A11) (A14,A12) (A14,A14) (A14,A15) (A14,A17) (A14,A18) \n",
      "(A15,A3) (A15,A6) (A15,A9) (A15,A10) (A15,A11) (A15,A12) (A15,A14) (A15,A15) (A15,A17) (A15,A18) \n",
      "\n"
     ]
    }
   ],
   "source": [
    "defeats = generate_defeats(arguments, rebuts, preferred_arguments)"
   ]
  },
  {
   "cell_type": "markdown",
   "metadata": {},
   "source": [
    "Histogramme"
   ]
  },
  {
   "cell_type": "code",
   "execution_count": 171,
   "metadata": {},
   "outputs": [
    {
     "data": {
      "image/png": "[encoded data removed]",
      "text/plain": [
       "<Figure size 1500x600 with 1 Axes>"
      ]
     },
     "metadata": {},
     "output_type": "display_data"
    }
   ],
   "source": [
    "# Création d'un graphe dirigé\n",
    "G = nx.DiGraph()\n",
    "\n",
    "# Ajout des nœuds (arguments)\n",
    "argument_names = []\n",
    "for argument in arguments:\n",
    "    argument_names.append(argument.get_name())\n",
    "    \n",
    "G.add_nodes_from(argument_names)\n",
    "\n",
    "# Ajout des arêtes (attaques)\n",
    "G.add_edges_from(defeats)\n",
    "\n",
    "# Visualisation du graphe\n",
    "plt.figure(figsize=(8, 6))\n",
    "pos = nx.spring_layout(G)  # Positionnement des nœuds\n",
    "nx.draw(G, pos, with_labels=True, node_size=1000, node_color='skyblue', font_size=12, arrowsize=20, linewidths=1, edge_color='gray', arrows=True)\n",
    "\n",
    "plt.title(\"Graphe d'argumentation\")\n",
    "plt.show()"
   ]
  }
 ],
 "metadata": {
  "kernelspec": {
   "display_name": "Python 3",
   "language": "python",
   "name": "python3"
  },
  "language_info": {
   "codemirror_mode": {
    "name": "ipython",
    "version": 3
   },
   "file_extension": ".py",
   "mimetype": "text/x-python",
   "name": "python",
   "nbconvert_exporter": "python",
   "pygments_lexer": "ipython3",
   "version": "3.10.9"
  }
 },
 "nbformat": 4,
 "nbformat_minor": 2
}
